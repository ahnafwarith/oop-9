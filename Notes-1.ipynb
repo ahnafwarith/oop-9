{
 "cells": [
  {
   "cell_type": "markdown",
   "id": "30da84cc",
   "metadata": {},
   "source": [
    "## Class Object Constructor attributes methods()"
   ]
  },
  {
   "cell_type": "code",
   "execution_count": 2,
   "id": "6c1dd521",
   "metadata": {},
   "outputs": [
    {
     "name": "stdout",
     "output_type": "stream",
     "text": [
      "11\n"
     ]
    }
   ],
   "source": [
    "# This is the folder for the bonus tasks"
   ]
  }
 ],
 "metadata": {
  "kernelspec": {
   "display_name": "Python 3 (ipykernel)",
   "language": "python",
   "name": "python3"
  },
  "language_info": {
   "codemirror_mode": {
    "name": "ipython",
    "version": 3
   },
   "file_extension": ".py",
   "mimetype": "text/x-python",
   "name": "python",
   "nbconvert_exporter": "python",
   "pygments_lexer": "ipython3",
   "version": "3.9.7"
  }
 },
 "nbformat": 4,
 "nbformat_minor": 5
}
